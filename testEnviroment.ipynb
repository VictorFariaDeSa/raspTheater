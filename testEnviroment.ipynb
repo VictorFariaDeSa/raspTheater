{
 "cells": [
  {
   "cell_type": "code",
   "execution_count": 20,
   "metadata": {},
   "outputs": [],
   "source": [
    "import subprocess\n",
    "import time\n",
    "\n",
    "def stop_mpv():\n",
    "    print(\"MPV process terminated.\")\n",
    "    subprocess.Popen(\"taskkill /F /IM mpv.exe\")\n",
    "\n",
    "def play_video_by_url(url):\n",
    "    mpv_path = r\"C:\\Program Files\\mpv\\mpv.exe\"\n",
    "    video_url = url\n",
    "    fs = r\"--fullscreen\"\n",
    "    quality = '--ytdl-format=best'\n",
    "    process = subprocess.Popen([mpv_path,fs,quality,video_url])"
   ]
  },
  {
   "cell_type": "code",
   "execution_count": 49,
   "metadata": {},
   "outputs": [],
   "source": [
    "import requests\n",
    "\n",
    "rasberryIdentifier = \"3\"\n",
    "url = \"http://127.0.0.1:5000/get_video_dict\"\n",
    "response = requests.get(url)\n",
    "response.json()\n",
    "video_url = response.json()[rasberryIdentifier]\n",
    "play_video_by_url(video_url)"
   ]
  },
  {
   "cell_type": "code",
   "execution_count": null,
   "metadata": {},
   "outputs": [
    {
     "ename": "KeyboardInterrupt",
     "evalue": "",
     "output_type": "error",
     "traceback": [
      "\u001b[1;31m---------------------------------------------------------------------------\u001b[0m",
      "\u001b[1;31mKeyboardInterrupt\u001b[0m                         Traceback (most recent call last)",
      "Cell \u001b[1;32mIn[42], line 11\u001b[0m\n\u001b[0;32m      9\u001b[0m     video_url \u001b[38;5;241m=\u001b[39m response\u001b[38;5;241m.\u001b[39mjson()[rasberryIdentifier]\n\u001b[0;32m     10\u001b[0m     play_video_by_url(video_url)\n\u001b[1;32m---> 11\u001b[0m \u001b[43mtime\u001b[49m\u001b[38;5;241;43m.\u001b[39;49m\u001b[43msleep\u001b[49m\u001b[43m(\u001b[49m\u001b[38;5;241;43m5\u001b[39;49m\u001b[43m)\u001b[49m\n",
      "\u001b[1;31mKeyboardInterrupt\u001b[0m: "
     ]
    }
   ],
   "source": [
    "rasberryIdentifier = \"4\"\n",
    "url = \"http://127.0.0.1:5000/get_video_dict\"\n",
    "response = requests.get(url)\n",
    "video_url = response.json()[rasberryIdentifier]\n",
    "play_video_by_url(video_url)\n",
    "while True:\n",
    "    response = requests.get(url)\n",
    "    if video_url != response.json()[rasberryIdentifier]:\n",
    "        video_url = response.json()[rasberryIdentifier]\n",
    "        play_video_by_url(video_url)\n",
    "    time.sleep(5)\n"
   ]
  },
  {
   "cell_type": "code",
   "execution_count": 38,
   "metadata": {},
   "outputs": [
    {
     "name": "stdout",
     "output_type": "stream",
     "text": [
      "1\n",
      "2\n"
     ]
    }
   ],
   "source": [
    "print(1)\n",
    "time.sleep(5)\n",
    "print(2)"
   ]
  },
  {
   "cell_type": "code",
   "execution_count": 52,
   "metadata": {},
   "outputs": [
    {
     "ename": "",
     "evalue": "",
     "output_type": "error",
     "traceback": [
      "\u001b[1;31mThe Kernel crashed while executing code in the current cell or a previous cell. \n",
      "\u001b[1;31mPlease review the code in the cell(s) to identify a possible cause of the failure. \n",
      "\u001b[1;31mClick <a href='https://aka.ms/vscodeJupyterKernelCrash'>here</a> for more info. \n",
      "\u001b[1;31mView Jupyter <a href='command:jupyter.viewOutput'>log</a> for further details."
     ]
    }
   ],
   "source": [
    "import mpv\n",
    "\n",
    "player = mpv.MPV()\n",
    "\n",
    "# Passa a URL para o player\n",
    "player.play(\"http://127.0.0.1:5000/video-stream/testVideo.mp4\")"
   ]
  },
  {
   "cell_type": "code",
   "execution_count": 14,
   "metadata": {},
   "outputs": [],
   "source": [
    "import mpv\n",
    "import time\n",
    "# import pyautogui\n",
    "player = mpv.MPV(\n",
    "    ytdl=True,\n",
    "    input_default_bindings=True,  # Desabilita controles\n",
    "    input_vo_keyboard=True,\n",
    "    # ontop=\"yes\"\n",
    ")\n",
    "player.fullscreen = True\n",
    "player.play(\"https://youtu.be/jTJvyKZDFsY?si=BNb5flwdAL6rGlu2\")"
   ]
  },
  {
   "cell_type": "code",
   "execution_count": 19,
   "metadata": {},
   "outputs": [],
   "source": [
    "player.terminate()"
   ]
  },
  {
   "cell_type": "code",
   "execution_count": 18,
   "metadata": {},
   "outputs": [
    {
     "ename": "KeyboardInterrupt",
     "evalue": "",
     "output_type": "error",
     "traceback": [
      "\u001b[1;31m---------------------------------------------------------------------------\u001b[0m",
      "\u001b[1;31mKeyboardInterrupt\u001b[0m                         Traceback (most recent call last)",
      "Cell \u001b[1;32mIn[18], line 24\u001b[0m\n\u001b[0;32m     22\u001b[0m     video_url \u001b[38;5;241m=\u001b[39m response\u001b[38;5;241m.\u001b[39mjson()[rasberryIdentifier]\n\u001b[0;32m     23\u001b[0m     player\u001b[38;5;241m.\u001b[39mplay(video_url)\n\u001b[1;32m---> 24\u001b[0m \u001b[43mtime\u001b[49m\u001b[38;5;241;43m.\u001b[39;49m\u001b[43msleep\u001b[49m\u001b[43m(\u001b[49m\u001b[38;5;241;43m5\u001b[39;49m\u001b[43m)\u001b[49m\n",
      "\u001b[1;31mKeyboardInterrupt\u001b[0m: "
     ]
    }
   ],
   "source": [
    "import requests\n",
    "import mpv\n",
    "# import pyautogui\n",
    "player = mpv.MPV(\n",
    "    ytdl=True,\n",
    "    input_default_bindings=True,  # Desabilita controles\n",
    "    input_vo_keyboard=True,\n",
    "    # ontop=\"yes\"\n",
    ")\n",
    "player.fullscreen = True\n",
    "\n",
    "rasberryIdentifier = \"4\"\n",
    "url = \"http://127.0.0.1:5000/get_video_dict\"\n",
    "response = requests.get(url)\n",
    "response.json()\n",
    "video_url = response.json()[rasberryIdentifier]\n",
    "\n",
    "player.play(video_url)\n",
    "while True:\n",
    "    response = requests.get(url)\n",
    "    if video_url != response.json()[rasberryIdentifier]:\n",
    "        video_url = response.json()[rasberryIdentifier]\n",
    "        player.play(video_url)\n",
    "    time.sleep(5)"
   ]
  },
  {
   "cell_type": "code",
   "execution_count": null,
   "metadata": {},
   "outputs": [],
   "source": []
  }
 ],
 "metadata": {
  "kernelspec": {
   "display_name": "env",
   "language": "python",
   "name": "python3"
  },
  "language_info": {
   "codemirror_mode": {
    "name": "ipython",
    "version": 3
   },
   "file_extension": ".py",
   "mimetype": "text/x-python",
   "name": "python",
   "nbconvert_exporter": "python",
   "pygments_lexer": "ipython3",
   "version": "3.13.1"
  }
 },
 "nbformat": 4,
 "nbformat_minor": 2
}
