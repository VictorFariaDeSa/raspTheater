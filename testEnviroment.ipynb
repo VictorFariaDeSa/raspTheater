{
 "cells": [
  {
   "cell_type": "code",
   "execution_count": 20,
   "metadata": {},
   "outputs": [],
   "source": [
    "import subprocess\n",
    "import time\n",
    "\n",
    "def stop_mpv():\n",
    "    print(\"MPV process terminated.\")\n",
    "    subprocess.Popen(\"taskkill /F /IM mpv.exe\")\n",
    "\n",
    "def play_video_by_url(url):\n",
    "    mpv_path = r\"C:\\Program Files\\mpv\\mpv.exe\"\n",
    "    video_url = url\n",
    "    fs = r\"--fullscreen\"\n",
    "    quality = '--ytdl-format=best'\n",
    "    process = subprocess.Popen([mpv_path,fs,quality,video_url])"
   ]
  },
  {
   "cell_type": "code",
   "execution_count": 49,
   "metadata": {},
   "outputs": [],
   "source": [
    "import requests\n",
    "\n",
    "rasberryIdentifier = \"3\"\n",
    "url = \"http://127.0.0.1:5000/get_video_dict\"\n",
    "response = requests.get(url)\n",
    "response.json()\n",
    "video_url = response.json()[rasberryIdentifier]\n",
    "play_video_by_url(video_url)"
   ]
  },
  {
   "cell_type": "code",
   "execution_count": 3,
   "metadata": {},
   "outputs": [
    {
     "ename": "ModuleNotFoundError",
     "evalue": "No module named 'mpv'",
     "output_type": "error",
     "traceback": [
      "\u001b[1;31m---------------------------------------------------------------------------\u001b[0m",
      "\u001b[1;31mModuleNotFoundError\u001b[0m                       Traceback (most recent call last)",
      "Cell \u001b[1;32mIn[3], line 2\u001b[0m\n\u001b[0;32m      1\u001b[0m \u001b[38;5;28;01mimport\u001b[39;00m\u001b[38;5;250m \u001b[39m\u001b[38;5;21;01mrequests\u001b[39;00m\n\u001b[1;32m----> 2\u001b[0m \u001b[38;5;28;01mimport\u001b[39;00m\u001b[38;5;250m \u001b[39m\u001b[38;5;21;01mmpv\u001b[39;00m\n\u001b[0;32m      3\u001b[0m \u001b[38;5;28;01mimport\u001b[39;00m\u001b[38;5;250m \u001b[39m\u001b[38;5;21;01mwebsocket\u001b[39;00m\n\u001b[0;32m      5\u001b[0m \u001b[38;5;66;03m# import pyautogui\u001b[39;00m\n",
      "\u001b[1;31mModuleNotFoundError\u001b[0m: No module named 'mpv'"
     ]
    }
   ],
   "source": [
    "import requests\n",
    "import mpv\n",
    "import websocket\n",
    "\n",
    "# import pyautogui\n",
    "player = mpv.MPV(\n",
    "    ytdl=True,\n",
    "    input_default_bindings=True,  # Desabilita controles\n",
    "    input_vo_keyboard=True,\n",
    "    # ontop=\"yes\"\n",
    ")\n",
    "player.fullscreen = True\n",
    "player.command('fullscreen', True)\n",
    "\n",
    " \n",
    "rasberryIdentifier = \"4\"\n",
    "url = \"http://127.0.0.1:5000/get_video_dict\"\n",
    "response = requests.get(url)\n",
    "response.json()\n",
    "video_url = response.json()[rasberryIdentifier]\n",
    "\n",
    "player.play(video_url)\n",
    "while True:\n",
    "    response = requests.get(url)\n",
    "    if video_url != response.json()[rasberryIdentifier]:\n",
    "        video_url = response.json()[rasberryIdentifier]\n",
    "        player.play(video_url)\n",
    "    time.sleep(5)"
   ]
  },
  {
   "cell_type": "code",
   "execution_count": 23,
   "metadata": {},
   "outputs": [],
   "source": [
    "player.terminate()"
   ]
  },
  {
   "cell_type": "code",
   "execution_count": 4,
   "metadata": {},
   "outputs": [
    {
     "ename": "ModuleNotFoundError",
     "evalue": "No module named 'mpv'",
     "output_type": "error",
     "traceback": [
      "\u001b[1;31m---------------------------------------------------------------------------\u001b[0m",
      "\u001b[1;31mModuleNotFoundError\u001b[0m                       Traceback (most recent call last)",
      "Cell \u001b[1;32mIn[4], line 2\u001b[0m\n\u001b[0;32m      1\u001b[0m \u001b[38;5;28;01mimport\u001b[39;00m\u001b[38;5;250m \u001b[39m\u001b[38;5;21;01mrequests\u001b[39;00m\n\u001b[1;32m----> 2\u001b[0m \u001b[38;5;28;01mimport\u001b[39;00m\u001b[38;5;250m \u001b[39m\u001b[38;5;21;01mmpv\u001b[39;00m\n\u001b[0;32m      3\u001b[0m \u001b[38;5;28;01mimport\u001b[39;00m\u001b[38;5;250m \u001b[39m\u001b[38;5;21;01mwebsocket\u001b[39;00m\n\u001b[0;32m      5\u001b[0m \u001b[38;5;66;03m# import pyautogui\u001b[39;00m\n",
      "\u001b[1;31mModuleNotFoundError\u001b[0m: No module named 'mpv'"
     ]
    }
   ],
   "source": [
    "import requests\n",
    "import mpv\n",
    "import websocket\n",
    "\n",
    "# import pyautogui\n",
    "player = mpv.MPV(\n",
    "    ytdl=True,\n",
    "    input_default_bindings=True,  # Desabilita controles\n",
    "    input_vo_keyboard=True,\n",
    "    # ontop=\"yes\"\n",
    ")\n",
    "player.fullscreen = True\n",
    "player.command('fullscreen', True)\n",
    "\n",
    " \n",
    "rasberryIdentifier = \"4\"\n",
    "url = \"http://127.0.0.1:5000/get_video_dict\"\n",
    "response = requests.get(url)\n",
    "response.json()\n",
    "video_url = response.json()[rasberryIdentifier]\n",
    "\n",
    "player.play(video_url)\n",
    "while True:\n",
    "    response = requests.get(url)\n",
    "    if video_url != response.json()[rasberryIdentifier]:\n",
    "        video_url = response.json()[rasberryIdentifier]\n",
    "        player.play(video_url)\n",
    "    time.sleep(5)"
   ]
  },
  {
   "cell_type": "code",
   "execution_count": 5,
   "metadata": {},
   "outputs": [
    {
     "ename": "OSError",
     "evalue": "Cannot find mpv-1.dll, mpv-2.dll or libmpv-2.dll in your system %PATH%. One way to deal with this is to ship the dll with your script and put the directory your script is in into %PATH% before \"import mpv\": os.environ[\"PATH\"] = os.path.dirname(__file__) + os.pathsep + os.environ[\"PATH\"] If mpv-1.dll is located elsewhere, you can add that path to os.environ[\"PATH\"].",
     "output_type": "error",
     "traceback": [
      "\u001b[1;31m---------------------------------------------------------------------------\u001b[0m",
      "\u001b[1;31mOSError\u001b[0m                                   Traceback (most recent call last)",
      "Cell \u001b[1;32mIn[5], line 3\u001b[0m\n\u001b[0;32m      1\u001b[0m \u001b[38;5;28;01mimport\u001b[39;00m\u001b[38;5;250m \u001b[39m\u001b[38;5;21;01msocketio\u001b[39;00m\n\u001b[0;32m      2\u001b[0m \u001b[38;5;28;01mimport\u001b[39;00m\u001b[38;5;250m \u001b[39m\u001b[38;5;21;01mrequests\u001b[39;00m\n\u001b[1;32m----> 3\u001b[0m \u001b[38;5;28;01mimport\u001b[39;00m\u001b[38;5;250m \u001b[39m\u001b[38;5;21;01mmpv\u001b[39;00m\n\u001b[0;32m      5\u001b[0m sio \u001b[38;5;241m=\u001b[39m socketio\u001b[38;5;241m.\u001b[39mClient()\n\u001b[0;32m      7\u001b[0m clientData \u001b[38;5;241m=\u001b[39m {\u001b[38;5;124m\"\u001b[39m\u001b[38;5;124muser\u001b[39m\u001b[38;5;124m\"\u001b[39m:\u001b[38;5;124m\"\u001b[39m\u001b[38;5;124mfacilities\u001b[39m\u001b[38;5;124m\"\u001b[39m,\n\u001b[0;32m      8\u001b[0m               \u001b[38;5;124m\"\u001b[39m\u001b[38;5;124murl\u001b[39m\u001b[38;5;124m\"\u001b[39m:\u001b[38;5;28;01mNone\u001b[39;00m}\n",
      "File \u001b[1;32mc:\\Users\\hardw\\OneDrive\\Documentos\\GitHub\\raspTheater\\env\\Lib\\site-packages\\mpv.py:40\u001b[0m\n\u001b[0;32m     38\u001b[0m dll \u001b[38;5;241m=\u001b[39m ctypes\u001b[38;5;241m.\u001b[39mutil\u001b[38;5;241m.\u001b[39mfind_library(\u001b[38;5;124m'\u001b[39m\u001b[38;5;124mmpv-2.dll\u001b[39m\u001b[38;5;124m'\u001b[39m) \u001b[38;5;129;01mor\u001b[39;00m ctypes\u001b[38;5;241m.\u001b[39mutil\u001b[38;5;241m.\u001b[39mfind_library(\u001b[38;5;124m'\u001b[39m\u001b[38;5;124mlibmpv-2.dll\u001b[39m\u001b[38;5;124m'\u001b[39m) \u001b[38;5;129;01mor\u001b[39;00m ctypes\u001b[38;5;241m.\u001b[39mutil\u001b[38;5;241m.\u001b[39mfind_library(\u001b[38;5;124m'\u001b[39m\u001b[38;5;124mmpv-1.dll\u001b[39m\u001b[38;5;124m'\u001b[39m)\n\u001b[0;32m     39\u001b[0m \u001b[38;5;28;01mif\u001b[39;00m dll \u001b[38;5;129;01mis\u001b[39;00m \u001b[38;5;28;01mNone\u001b[39;00m:\n\u001b[1;32m---> 40\u001b[0m     \u001b[38;5;28;01mraise\u001b[39;00m \u001b[38;5;167;01mOSError\u001b[39;00m(\u001b[38;5;124m'\u001b[39m\u001b[38;5;124mCannot find mpv-1.dll, mpv-2.dll or libmpv-2.dll in your system \u001b[39m\u001b[38;5;124m%\u001b[39m\u001b[38;5;124mPATH\u001b[39m\u001b[38;5;124m%\u001b[39m\u001b[38;5;124m. One way to deal with this is to ship the dll with your script and put the directory your script is in into \u001b[39m\u001b[38;5;124m%\u001b[39m\u001b[38;5;124mPATH\u001b[39m\u001b[38;5;124m%\u001b[39m\u001b[38;5;124m before \u001b[39m\u001b[38;5;124m\"\u001b[39m\u001b[38;5;124mimport mpv\u001b[39m\u001b[38;5;124m\"\u001b[39m\u001b[38;5;124m: os.environ[\u001b[39m\u001b[38;5;124m\"\u001b[39m\u001b[38;5;124mPATH\u001b[39m\u001b[38;5;124m\"\u001b[39m\u001b[38;5;124m] = os.path.dirname(__file__) + os.pathsep + os.environ[\u001b[39m\u001b[38;5;124m\"\u001b[39m\u001b[38;5;124mPATH\u001b[39m\u001b[38;5;124m\"\u001b[39m\u001b[38;5;124m] If mpv-1.dll is located elsewhere, you can add that path to os.environ[\u001b[39m\u001b[38;5;124m\"\u001b[39m\u001b[38;5;124mPATH\u001b[39m\u001b[38;5;124m\"\u001b[39m\u001b[38;5;124m].\u001b[39m\u001b[38;5;124m'\u001b[39m)\n\u001b[0;32m     41\u001b[0m backend \u001b[38;5;241m=\u001b[39m CDLL(dll)\n\u001b[0;32m     42\u001b[0m fs_enc \u001b[38;5;241m=\u001b[39m \u001b[38;5;124m'\u001b[39m\u001b[38;5;124mutf-8\u001b[39m\u001b[38;5;124m'\u001b[39m\n",
      "\u001b[1;31mOSError\u001b[0m: Cannot find mpv-1.dll, mpv-2.dll or libmpv-2.dll in your system %PATH%. One way to deal with this is to ship the dll with your script and put the directory your script is in into %PATH% before \"import mpv\": os.environ[\"PATH\"] = os.path.dirname(__file__) + os.pathsep + os.environ[\"PATH\"] If mpv-1.dll is located elsewhere, you can add that path to os.environ[\"PATH\"]."
     ]
    }
   ],
   "source": [
    "import socketio\n",
    "import requests\n",
    "import mpv\n",
    "\n",
    "sio = socketio.Client()\n",
    "\n",
    "clientData = {\"user\":\"facilities\",\n",
    "              \"url\":None}\n",
    "\n",
    "player = mpv.MPV(\n",
    "    ytdl=True,\n",
    "    input_default_bindings=True,  # Desabilita controles\n",
    "    input_vo_keyboard=True,\n",
    "    # ontop=\"yes\"\n",
    ")\n",
    "player.fullscreen = True\n",
    "\n",
    "\n",
    "@sio.event\n",
    "def connect():\n",
    "    print(\"Conectado ao servidor!\")\n",
    "    url = \"http://127.0.0.1:5000/get_video_dict\"\n",
    "    response = requests.get(url)\n",
    "    response.json()\n",
    "    clientData[\"url\"] = response.json()[clientData[\"user\"]]\n",
    "    print(clientData[\"url\"])\n",
    "    if clientData[\"url\"] != None:\n",
    "        player.play(clientData[\"url\"])\n",
    "    sio.emit(\"register_user\", clientData)\n",
    "\n",
    "@sio.on(\"update_videos_dict\")\n",
    "def on_update_videos_dict(data):\n",
    "    newUrl = data[clientData[\"user\"]]\n",
    "    print(f\"Mensagem do servidor: {newUrl}\")\n",
    "\n",
    "sio.connect(\"http://localhost:5000\")\n",
    "sio.emit(\"client_message\", {\"message\": \"Olá, servidor!\"})\n",
    "sio.wait()\n"
   ]
  },
  {
   "cell_type": "code",
   "execution_count": 2,
   "metadata": {},
   "outputs": [
    {
     "data": {
      "text/plain": [
       "'00000000-0000-0000-0000-ec91616cf8de'"
      ]
     },
     "execution_count": 2,
     "metadata": {},
     "output_type": "execute_result"
    }
   ],
   "source": [
    "import uuid\n",
    "str(uuid.UUID(int=uuid.getnode()))"
   ]
  },
  {
   "cell_type": "markdown",
   "metadata": {},
   "source": []
  }
 ],
 "metadata": {
  "kernelspec": {
   "display_name": "env",
   "language": "python",
   "name": "python3"
  },
  "language_info": {
   "codemirror_mode": {
    "name": "ipython",
    "version": 3
   },
   "file_extension": ".py",
   "mimetype": "text/x-python",
   "name": "python",
   "nbconvert_exporter": "python",
   "pygments_lexer": "ipython3",
   "version": "3.13.1"
  }
 },
 "nbformat": 4,
 "nbformat_minor": 2
}
