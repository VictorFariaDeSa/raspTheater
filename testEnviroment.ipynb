{
 "cells": [
  {
   "cell_type": "code",
   "execution_count": 20,
   "metadata": {},
   "outputs": [],
   "source": [
    "import subprocess\n",
    "import time\n",
    "\n",
    "def stop_mpv():\n",
    "    print(\"MPV process terminated.\")\n",
    "    subprocess.Popen(\"taskkill /F /IM mpv.exe\")\n",
    "\n",
    "def play_video_by_url(url):\n",
    "    mpv_path = r\"C:\\Program Files\\mpv\\mpv.exe\"\n",
    "    video_url = url\n",
    "    fs = r\"--fullscreen\"\n",
    "    quality = '--ytdl-format=best'\n",
    "    process = subprocess.Popen([mpv_path,fs,quality,video_url])"
   ]
  },
  {
   "cell_type": "code",
   "execution_count": 49,
   "metadata": {},
   "outputs": [],
   "source": [
    "import requests\n",
    "\n",
    "rasberryIdentifier = \"3\"\n",
    "url = \"http://127.0.0.1:5000/get_video_dict\"\n",
    "response = requests.get(url)\n",
    "response.json()\n",
    "video_url = response.json()[rasberryIdentifier]\n",
    "play_video_by_url(video_url)"
   ]
  },
  {
   "cell_type": "code",
   "execution_count": null,
   "metadata": {},
   "outputs": [
    {
     "ename": "ValueError",
     "evalue": "('Invalid value for mpv parameter', -4, (<MpvHandle object at 0x00000134D4B54D50>, <mpv.LP_MpvNode object at 0x00000134D4B55AD0>, <mpv.LP_MpvNode object at 0x00000134D4B55A50>))",
     "output_type": "error",
     "traceback": [
      "\u001b[1;31m---------------------------------------------------------------------------\u001b[0m",
      "\u001b[1;31mValueError\u001b[0m                                Traceback (most recent call last)",
      "Cell \u001b[1;32mIn[27], line 11\u001b[0m\n\u001b[0;32m      4\u001b[0m player \u001b[38;5;241m=\u001b[39m mpv\u001b[38;5;241m.\u001b[39mMPV(\n\u001b[0;32m      5\u001b[0m     ytdl\u001b[38;5;241m=\u001b[39m\u001b[38;5;28;01mTrue\u001b[39;00m,\n\u001b[0;32m      6\u001b[0m     input_default_bindings\u001b[38;5;241m=\u001b[39m\u001b[38;5;28;01mTrue\u001b[39;00m,  \u001b[38;5;66;03m# Desabilita controles\u001b[39;00m\n\u001b[0;32m      7\u001b[0m     input_vo_keyboard\u001b[38;5;241m=\u001b[39m\u001b[38;5;28;01mTrue\u001b[39;00m,\n\u001b[0;32m      8\u001b[0m     \u001b[38;5;66;03m# ontop=\"yes\"\u001b[39;00m\n\u001b[0;32m      9\u001b[0m )\n\u001b[0;32m     10\u001b[0m player\u001b[38;5;241m.\u001b[39mfullscreen \u001b[38;5;241m=\u001b[39m \u001b[38;5;28;01mTrue\u001b[39;00m\n\u001b[1;32m---> 11\u001b[0m \u001b[43mplayer\u001b[49m\u001b[38;5;241;43m.\u001b[39;49m\u001b[43mcommand\u001b[49m\u001b[43m(\u001b[49m\u001b[38;5;124;43m'\u001b[39;49m\u001b[38;5;124;43mfullscreen\u001b[39;49m\u001b[38;5;124;43m'\u001b[39;49m\u001b[43m,\u001b[49m\u001b[43m \u001b[49m\u001b[38;5;28;43;01mTrue\u001b[39;49;00m\u001b[43m)\u001b[49m\n\u001b[0;32m     14\u001b[0m rasberryIdentifier \u001b[38;5;241m=\u001b[39m \u001b[38;5;124m\"\u001b[39m\u001b[38;5;124m4\u001b[39m\u001b[38;5;124m\"\u001b[39m\n\u001b[0;32m     15\u001b[0m url \u001b[38;5;241m=\u001b[39m \u001b[38;5;124m\"\u001b[39m\u001b[38;5;124mhttp://127.0.0.1:5000/get_video_dict\u001b[39m\u001b[38;5;124m\"\u001b[39m\n",
      "File \u001b[1;32mc:\\Users\\inter18\\Desktop\\Projects\\raspTheater\\env\\Lib\\site-packages\\mpv.py:1237\u001b[0m, in \u001b[0;36mMPV.command\u001b[1;34m(self, name, decoder, *args, **kwargs)\u001b[0m\n\u001b[0;32m   1235\u001b[0m out \u001b[38;5;241m=\u001b[39m cast(create_string_buffer(sizeof(MpvNode)), POINTER(MpvNode))\n\u001b[0;32m   1236\u001b[0m ppointer \u001b[38;5;241m=\u001b[39m cast(pointer, POINTER(MpvNode))\n\u001b[1;32m-> 1237\u001b[0m \u001b[43m_mpv_command_node\u001b[49m\u001b[43m(\u001b[49m\u001b[38;5;28;43mself\u001b[39;49m\u001b[38;5;241;43m.\u001b[39;49m\u001b[43mhandle\u001b[49m\u001b[43m,\u001b[49m\u001b[43m \u001b[49m\u001b[43mppointer\u001b[49m\u001b[43m,\u001b[49m\u001b[43m \u001b[49m\u001b[43mout\u001b[49m\u001b[43m)\u001b[49m\n\u001b[0;32m   1238\u001b[0m rv \u001b[38;5;241m=\u001b[39m out\u001b[38;5;241m.\u001b[39mcontents\u001b[38;5;241m.\u001b[39mnode_value(decoder\u001b[38;5;241m=\u001b[39mdecoder)\n\u001b[0;32m   1239\u001b[0m _mpv_free_node_contents(out)\n",
      "File \u001b[1;32mc:\\Users\\inter18\\Desktop\\Projects\\raspTheater\\env\\Lib\\site-packages\\mpv.py:142\u001b[0m, in \u001b[0;36mErrorCode.raise_for_ec\u001b[1;34m(kls, ec, func, *args)\u001b[0m\n\u001b[0;32m    140\u001b[0m ex \u001b[38;5;241m=\u001b[39m kls\u001b[38;5;241m.\u001b[39mexception_for_ec(ec, \u001b[38;5;241m*\u001b[39margs)\n\u001b[0;32m    141\u001b[0m \u001b[38;5;28;01mif\u001b[39;00m ex:\n\u001b[1;32m--> 142\u001b[0m     \u001b[38;5;28;01mraise\u001b[39;00m ex\n",
      "\u001b[1;31mValueError\u001b[0m: ('Invalid value for mpv parameter', -4, (<MpvHandle object at 0x00000134D4B54D50>, <mpv.LP_MpvNode object at 0x00000134D4B55AD0>, <mpv.LP_MpvNode object at 0x00000134D4B55A50>))"
     ]
    }
   ],
   "source": [
    "import requests\n",
    "import mpv\n",
    "import websocket\n",
    "\n",
    "# import pyautogui\n",
    "player = mpv.MPV(\n",
    "    ytdl=True,\n",
    "    input_default_bindings=True,  # Desabilita controles\n",
    "    input_vo_keyboard=True,\n",
    "    # ontop=\"yes\"\n",
    ")\n",
    "player.fullscreen = True\n",
    "player.command('fullscreen', True)\n",
    "\n",
    " \n",
    "rasberryIdentifier = \"4\"\n",
    "url = \"http://127.0.0.1:5000/get_video_dict\"\n",
    "response = requests.get(url)\n",
    "response.json()\n",
    "video_url = response.json()[rasberryIdentifier]\n",
    "\n",
    "player.play(video_url)\n",
    "while True:\n",
    "    response = requests.get(url)\n",
    "    if video_url != response.json()[rasberryIdentifier]:\n",
    "        video_url = response.json()[rasberryIdentifier]\n",
    "        player.play(video_url)\n",
    "    time.sleep(5)"
   ]
  },
  {
   "cell_type": "code",
   "execution_count": 23,
   "metadata": {},
   "outputs": [],
   "source": [
    "player.terminate()"
   ]
  },
  {
   "cell_type": "code",
   "execution_count": null,
   "metadata": {},
   "outputs": [],
   "source": [
    "import requests\n",
    "import mpv\n",
    "import websocket\n",
    "\n",
    "# import pyautogui\n",
    "player = mpv.MPV(\n",
    "    ytdl=True,\n",
    "    input_default_bindings=True,  # Desabilita controles\n",
    "    input_vo_keyboard=True,\n",
    "    # ontop=\"yes\"\n",
    ")\n",
    "player.fullscreen = True\n",
    "player.command('fullscreen', True)\n",
    "\n",
    " \n",
    "rasberryIdentifier = \"4\"\n",
    "url = \"http://127.0.0.1:5000/get_video_dict\"\n",
    "response = requests.get(url)\n",
    "response.json()\n",
    "video_url = response.json()[rasberryIdentifier]\n",
    "\n",
    "player.play(video_url)\n",
    "while True:\n",
    "    response = requests.get(url)\n",
    "    if video_url != response.json()[rasberryIdentifier]:\n",
    "        video_url = response.json()[rasberryIdentifier]\n",
    "        player.play(video_url)\n",
    "    time.sleep(5)"
   ]
  },
  {
   "cell_type": "code",
   "execution_count": null,
   "metadata": {},
   "outputs": [
    {
     "name": "stdout",
     "output_type": "stream",
     "text": [
      "Conectado ao servidor!\n"
     ]
    }
   ],
   "source": [
    "import socketio\n",
    "import requests\n",
    "import mpv\n",
    "\n",
    "sio = socketio.Client()\n",
    "\n",
    "clientData = {\"user\":\"facilities\",\n",
    "              \"url\":None}\n",
    "\n",
    "player = mpv.MPV(\n",
    "    ytdl=True,\n",
    "    input_default_bindings=True,  # Desabilita controles\n",
    "    input_vo_keyboard=True,\n",
    "    # ontop=\"yes\"\n",
    ")\n",
    "player.fullscreen = True\n",
    "\n",
    "\n",
    "@sio.event\n",
    "def connect():\n",
    "    print(\"Conectado ao servidor!\")\n",
    "    url = \"http://127.0.0.1:5000/get_video_dict\"\n",
    "    response = requests.get(url)\n",
    "    response.json()\n",
    "    clientData[\"url\"] = response.json()[clientData[\"user\"]]\n",
    "    print(clientData[\"url\"])\n",
    "    if clientData[\"url\"] != None:\n",
    "        player.play(clientData[\"url\"])\n",
    "    sio.emit(\"register_user\", clientData)\n",
    "\n",
    "@sio.on(\"update_videos_dict\")\n",
    "def on_update_videos_dict(data):\n",
    "    newUrl = data[clientData[\"user\"]]\n",
    "    print(f\"Mensagem do servidor: {newUrl}\")\n",
    "\n",
    "sio.connect(\"http://localhost:5000\")\n",
    "sio.emit(\"client_message\", {\"message\": \"Olá, servidor!\"})\n",
    "sio.wait()\n"
   ]
  },
  {
   "cell_type": "code",
   "execution_count": null,
   "metadata": {},
   "outputs": [],
   "source": []
  }
 ],
 "metadata": {
  "kernelspec": {
   "display_name": "env",
   "language": "python",
   "name": "python3"
  },
  "language_info": {
   "codemirror_mode": {
    "name": "ipython",
    "version": 3
   },
   "file_extension": ".py",
   "mimetype": "text/x-python",
   "name": "python",
   "nbconvert_exporter": "python",
   "pygments_lexer": "ipython3",
   "version": "3.13.1"
  }
 },
 "nbformat": 4,
 "nbformat_minor": 2
}
