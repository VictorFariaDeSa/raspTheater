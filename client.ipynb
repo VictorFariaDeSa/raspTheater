{
 "cells": [
  {
   "cell_type": "code",
   "execution_count": 2,
   "metadata": {},
   "outputs": [],
   "source": [
    "import socketio\n",
    "\n",
    "sio = socketio.Client()\n",
    "\n",
    "clientData = {\"user\":\"ADM\"}\n",
    "\n",
    "@sio.event\n",
    "def connect():\n",
    "    print(\"Conectado ao servidor!\")\n",
    "    sio.emit(\"register_user\", clientData)\n",
    "\n",
    "@sio.on(\"server_message\")\n",
    "def on_server_message(data):\n",
    "    print(f\"Mensagem do servidor: {data['message']}\")\n",
    "\n",
    "\n",
    "@sio.on(\"test_message\")\n",
    "def on_test_message(data):\n",
    "    print(f\"Mensagem do servidor: {data['message']}\")\n",
    "\n",
    "sio.connect(\"http://localhost:5000\")\n",
    "sio.emit(\"client_message\", {\"message\": \"Olá, servidor!\"})\n",
    "sio.wait()"
   ]
  },
  {
   "cell_type": "code",
   "execution_count": null,
   "metadata": {},
   "outputs": [],
   "source": []
  }
 ],
 "metadata": {
  "kernelspec": {
   "display_name": "env",
   "language": "python",
   "name": "python3"
  },
  "language_info": {
   "codemirror_mode": {
    "name": "ipython",
    "version": 3
   },
   "file_extension": ".py",
   "mimetype": "text/x-python",
   "name": "python",
   "nbconvert_exporter": "python",
   "pygments_lexer": "ipython3",
   "version": "3.13.1"
  }
 },
 "nbformat": 4,
 "nbformat_minor": 2
}
