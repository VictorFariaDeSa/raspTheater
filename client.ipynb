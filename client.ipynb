{
 "cells": [
  {
   "cell_type": "code",
   "execution_count": 1,
   "metadata": {},
   "outputs": [
    {
     "name": "stderr",
     "output_type": "stream",
     "text": [
      "websocket-client package not installed, only polling transport is available\n"
     ]
    },
    {
     "ename": "ConnectionError",
     "evalue": "One or more namespaces failed to connect",
     "output_type": "error",
     "traceback": [
      "\u001b[1;31m---------------------------------------------------------------------------\u001b[0m",
      "\u001b[1;31mConnectionError\u001b[0m                           Traceback (most recent call last)",
      "Cell \u001b[1;32mIn[1], line 21\u001b[0m\n\u001b[0;32m     17\u001b[0m \u001b[38;5;129m@sio\u001b[39m\u001b[38;5;241m.\u001b[39mon(\u001b[38;5;124m\"\u001b[39m\u001b[38;5;124mtest_message\u001b[39m\u001b[38;5;124m\"\u001b[39m)\n\u001b[0;32m     18\u001b[0m \u001b[38;5;28;01mdef\u001b[39;00m\u001b[38;5;250m \u001b[39m\u001b[38;5;21mon_test_message\u001b[39m(data):\n\u001b[0;32m     19\u001b[0m     \u001b[38;5;28mprint\u001b[39m(\u001b[38;5;124mf\u001b[39m\u001b[38;5;124m\"\u001b[39m\u001b[38;5;124mMensagem do servidor: \u001b[39m\u001b[38;5;132;01m{\u001b[39;00mdata[\u001b[38;5;124m'\u001b[39m\u001b[38;5;124mmessage\u001b[39m\u001b[38;5;124m'\u001b[39m]\u001b[38;5;132;01m}\u001b[39;00m\u001b[38;5;124m\"\u001b[39m)\n\u001b[1;32m---> 21\u001b[0m \u001b[43msio\u001b[49m\u001b[38;5;241;43m.\u001b[39;49m\u001b[43mconnect\u001b[49m\u001b[43m(\u001b[49m\u001b[38;5;124;43m\"\u001b[39;49m\u001b[38;5;124;43mhttp://localhost:5000\u001b[39;49m\u001b[38;5;124;43m\"\u001b[39;49m\u001b[43m)\u001b[49m\n\u001b[0;32m     22\u001b[0m sio\u001b[38;5;241m.\u001b[39memit(\u001b[38;5;124m\"\u001b[39m\u001b[38;5;124mclient_message\u001b[39m\u001b[38;5;124m\"\u001b[39m, {\u001b[38;5;124m\"\u001b[39m\u001b[38;5;124mmessage\u001b[39m\u001b[38;5;124m\"\u001b[39m: \u001b[38;5;124m\"\u001b[39m\u001b[38;5;124mOlá, servidor!\u001b[39m\u001b[38;5;124m\"\u001b[39m})\n\u001b[0;32m     23\u001b[0m sio\u001b[38;5;241m.\u001b[39mwait()\n",
      "File \u001b[1;32mc:\\Users\\hardw\\OneDrive\\Documentos\\GitHub\\raspTheater\\env\\Lib\\site-packages\\socketio\\client.py:168\u001b[0m, in \u001b[0;36mClient.connect\u001b[1;34m(self, url, headers, auth, transports, namespaces, socketio_path, wait, wait_timeout, retry)\u001b[0m\n\u001b[0;32m    166\u001b[0m     \u001b[38;5;28;01mif\u001b[39;00m \u001b[38;5;28mset\u001b[39m(\u001b[38;5;28mself\u001b[39m\u001b[38;5;241m.\u001b[39mnamespaces) \u001b[38;5;241m!=\u001b[39m \u001b[38;5;28mset\u001b[39m(\u001b[38;5;28mself\u001b[39m\u001b[38;5;241m.\u001b[39mconnection_namespaces):\n\u001b[0;32m    167\u001b[0m         \u001b[38;5;28mself\u001b[39m\u001b[38;5;241m.\u001b[39mdisconnect()\n\u001b[1;32m--> 168\u001b[0m         \u001b[38;5;28;01mraise\u001b[39;00m exceptions\u001b[38;5;241m.\u001b[39mConnectionError(\n\u001b[0;32m    169\u001b[0m             \u001b[38;5;124m'\u001b[39m\u001b[38;5;124mOne or more namespaces failed to connect\u001b[39m\u001b[38;5;124m'\u001b[39m)\n\u001b[0;32m    171\u001b[0m \u001b[38;5;28mself\u001b[39m\u001b[38;5;241m.\u001b[39mconnected \u001b[38;5;241m=\u001b[39m \u001b[38;5;28;01mTrue\u001b[39;00m\n",
      "\u001b[1;31mConnectionError\u001b[0m: One or more namespaces failed to connect"
     ]
    },
    {
     "name": "stdout",
     "output_type": "stream",
     "text": [
      "Conectado ao servidor!\n"
     ]
    }
   ],
   "source": [
    "import socketio\n",
    "\n",
    "sio = socketio.Client()\n",
    "\n",
    "clientData = {\"user\":\"ADM\"}\n",
    "\n",
    "@sio.event\n",
    "def connect():\n",
    "    print(\"Conectado ao servidor!\")\n",
    "    sio.emit(\"register_user\", clientData)\n",
    "\n",
    "@sio.on(\"server_message\")\n",
    "def on_server_message(data):\n",
    "    print(f\"Mensagem do servidor: {data['message']}\")\n",
    "\n",
    "\n",
    "@sio.on(\"test_message\")\n",
    "def on_test_message(data):\n",
    "    print(f\"Mensagem do servidor: {data['message']}\")\n",
    "\n",
    "sio.connect(\"http://localhost:5000\")\n",
    "sio.emit(\"client_message\", {\"message\": \"Olá, servidor!\"})\n",
    "sio.wait()"
   ]
  },
  {
   "cell_type": "code",
   "execution_count": null,
   "metadata": {},
   "outputs": [],
   "source": []
  }
 ],
 "metadata": {
  "kernelspec": {
   "display_name": "env",
   "language": "python",
   "name": "python3"
  },
  "language_info": {
   "codemirror_mode": {
    "name": "ipython",
    "version": 3
   },
   "file_extension": ".py",
   "mimetype": "text/x-python",
   "name": "python",
   "nbconvert_exporter": "python",
   "pygments_lexer": "ipython3",
   "version": "3.13.1"
  }
 },
 "nbformat": 4,
 "nbformat_minor": 2
}
